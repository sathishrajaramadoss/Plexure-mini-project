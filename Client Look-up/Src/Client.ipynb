{
 "cells": [
  {
   "cell_type": "markdown",
   "metadata": {},
   "source": [
    "# CLIENT LOOKUP"
   ]
  },
  {
   "cell_type": "code",
   "execution_count": 2,
   "metadata": {},
   "outputs": [],
   "source": [
    "import os\n",
    "import pyodbc\n",
    "import pandas as pd\n",
    "import numpy as np\n",
    "import sys\n",
    "sys.path.append(os.path.join(\"..\"))\n",
    "from Src import Tools"
   ]
  },
  {
   "cell_type": "markdown",
   "metadata": {},
   "source": [
    "## CONNECT TO SERVER"
   ]
  },
  {
   "cell_type": "code",
   "execution_count": 3,
   "metadata": {},
   "outputs": [],
   "source": [
    "GMAL = Tools.connect_to_dwh()"
   ]
  },
  {
   "cell_type": "markdown",
   "metadata": {},
   "source": [
    "### CREATE QUERY "
   ]
  },
  {
   "cell_type": "code",
   "execution_count": null,
   "metadata": {},
   "outputs": [],
   "source": [
    "Total_Users_q = Tools.read_query(\"TOTALUSERS\")\n",
    "Total_Email_Reg_q = Tools.read_query(\"TOTALEMAILREG\")\n",
    "Reg_Email_Inactive_Users_q = Tools.read_query(\"REGINACTIVE\")\n",
    "Reg_Email_Active_Users_q = Tools.read_query(\"REGACTIVE\")\n",
    "Redmeers_Active_Users_Email_q = Tools.read_query(\"REDMACTIVE\")\n",
    "Non_Redmeers_Active_Users_Email_q = Tools.read_query(\"NONREDMACTIVE\")"
   ]
  },
  {
   "cell_type": "markdown",
   "metadata": {},
   "source": [
    "### COMMIT QUERY"
   ]
  },
  {
   "cell_type": "code",
   "execution_count": null,
   "metadata": {},
   "outputs": [],
   "source": [
    "Total_Users_res = Tools.commit_query(Total_Users_q, GMAL)\n",
    "Total_Email_Reg_res = Tools.commit_query(Total_Email_Reg_q, GMAL)\n",
    "Reg_Email_Inactive_Users_res = Tools.commit_query(Reg_Email_Inactive_Users_q, GMAL)\n",
    "Reg_Email_Active_Users_res = Tools.commit_query(Reg_Email_Active_Users_q, GMAL)\n",
    "Redmeers_Active_Users_Email_res = Tools.commit_query(Redmeers_Active_Users_Email_q, GMAL)\n",
    "Non_Redmeers_Active_Users_Email_res = Tools.commit_query(Non_Redmeers_Active_Users_Email_q, GMAL)"
   ]
  },
  {
   "cell_type": "markdown",
   "metadata": {},
   "source": [
    "#### EXPORT RESULT"
   ]
  },
  {
   "cell_type": "code",
   "execution_count": null,
   "metadata": {},
   "outputs": [],
   "source": [
    "Total_Users_res.replace=('@STARTDATE','startdate')\n",
    "Total_Users_res.replace=('@ENDDATE','enddate')\n"
   ]
  },
  {
   "cell_type": "code",
   "execution_count": null,
   "metadata": {},
   "outputs": [],
   "source": [
    "Total_Users_res"
   ]
  },
  {
   "cell_type": "code",
   "execution_count": null,
   "metadata": {},
   "outputs": [],
   "source": [
    "list(Total_Email_Reg_res['Reg_Email_Users'])[0]"
   ]
  },
  {
   "cell_type": "code",
   "execution_count": null,
   "metadata": {},
   "outputs": [],
   "source": [
    "list(Reg_Email_Inactive_Users_res['Reg_Email_Inactive_Users'])[0]"
   ]
  },
  {
   "cell_type": "code",
   "execution_count": null,
   "metadata": {},
   "outputs": [],
   "source": [
    "list(Reg_Email_Active_Users_res['Reg_Email_Active_Users'])[0]"
   ]
  },
  {
   "cell_type": "code",
   "execution_count": null,
   "metadata": {},
   "outputs": [],
   "source": [
    "Total_Users_q.replace=('@startdate',\"startdate\")"
   ]
  }
 ],
 "metadata": {
  "kernelspec": {
   "display_name": "Python 3",
   "language": "python",
   "name": "python3"
  },
  "language_info": {
   "codemirror_mode": {
    "name": "ipython",
    "version": 3
   },
   "file_extension": ".py",
   "mimetype": "text/x-python",
   "name": "python",
   "nbconvert_exporter": "python",
   "pygments_lexer": "ipython3",
   "version": "3.6.5"
  }
 },
 "nbformat": 4,
 "nbformat_minor": 2
}
