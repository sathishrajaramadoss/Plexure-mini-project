{
 "cells": [
  {
   "cell_type": "markdown",
   "metadata": {},
   "source": [
    "GETTING THE DATA"
   ]
  },
  {
   "cell_type": "code",
   "execution_count": 1,
   "metadata": {},
   "outputs": [],
   "source": [
    "import sqlalchemy\n",
    "import pandas as pd\n",
    "import numpy as np\n",
    "import sys\n",
    "import os\n",
    "sys.path.append(os.path.join(\"..\"))\n",
    "from Src import Tools\n",
    "from Src import Draw\n",
    "from Src import Stats"
   ]
  },
  {
   "cell_type": "markdown",
   "metadata": {},
   "source": [
    "CONNECT TO DATABASE"
   ]
  },
  {
   "cell_type": "code",
   "execution_count": 2,
   "metadata": {},
   "outputs": [],
   "source": [
    "db = Tools.connect_to_dwh()"
   ]
  },
  {
   "cell_type": "markdown",
   "metadata": {},
   "source": [
    "READ QUERY"
   ]
  },
  {
   "cell_type": "code",
   "execution_count": 3,
   "metadata": {},
   "outputs": [],
   "source": [
    "ve = Tools.read_query(\"QUERY\")"
   ]
  },
  {
   "cell_type": "markdown",
   "metadata": {},
   "source": [
    "COMMIT QUERY"
   ]
  },
  {
   "cell_type": "code",
   "execution_count": 4,
   "metadata": {},
   "outputs": [],
   "source": [
    "tnx = Tools.commit_query(ve, db)"
   ]
  },
  {
   "cell_type": "markdown",
   "metadata": {},
   "source": [
    "QUERY SUMMARY"
   ]
  },
  {
   "cell_type": "code",
   "execution_count": 5,
   "metadata": {},
   "outputs": [
    {
     "data": {
      "text/html": [
       "<div>\n",
       "<style scoped>\n",
       "    .dataframe tbody tr th:only-of-type {\n",
       "        vertical-align: middle;\n",
       "    }\n",
       "\n",
       "    .dataframe tbody tr th {\n",
       "        vertical-align: top;\n",
       "    }\n",
       "\n",
       "    .dataframe thead th {\n",
       "        text-align: right;\n",
       "    }\n",
       "</style>\n",
       "<table border=\"1\" class=\"dataframe\">\n",
       "  <thead>\n",
       "    <tr style=\"text-align: right;\">\n",
       "      <th></th>\n",
       "      <th>Customers</th>\n",
       "      <th>Transaction_Id</th>\n",
       "      <th>Sales_Amount</th>\n",
       "      <th>Date_Occurred</th>\n",
       "    </tr>\n",
       "  </thead>\n",
       "  <tbody>\n",
       "    <tr>\n",
       "      <th>0</th>\n",
       "      <td>222f5fcf-8e71-47bb-9f7e-357b3642f94e</td>\n",
       "      <td>POS0007:875032845</td>\n",
       "      <td>3.95</td>\n",
       "      <td>2018-07-25</td>\n",
       "    </tr>\n",
       "    <tr>\n",
       "      <th>1</th>\n",
       "      <td>fcac1abc-6e0b-4649-9a50-35681a05fe30</td>\n",
       "      <td>POS0007:137504074</td>\n",
       "      <td>3.95</td>\n",
       "      <td>2018-07-27</td>\n",
       "    </tr>\n",
       "    <tr>\n",
       "      <th>2</th>\n",
       "      <td>d308eae3-0999-43fd-b5ea-357c6a165877</td>\n",
       "      <td>POS0007:334978027</td>\n",
       "      <td>4.00</td>\n",
       "      <td>2018-07-25</td>\n",
       "    </tr>\n",
       "    <tr>\n",
       "      <th>3</th>\n",
       "      <td>0a6c6337-2803-40cc-8810-356b19b6e4e0</td>\n",
       "      <td>POS0005:204907544</td>\n",
       "      <td>7.95</td>\n",
       "      <td>2018-07-23</td>\n",
       "    </tr>\n",
       "    <tr>\n",
       "      <th>4</th>\n",
       "      <td>6a8c5ca1-35b9-411c-b18f-356adc33015e</td>\n",
       "      <td>POS0009:413400729</td>\n",
       "      <td>3.95</td>\n",
       "      <td>2018-04-26</td>\n",
       "    </tr>\n",
       "  </tbody>\n",
       "</table>\n",
       "</div>"
      ],
      "text/plain": [
       "                              Customers     Transaction_Id  Sales_Amount  \\\n",
       "0  222f5fcf-8e71-47bb-9f7e-357b3642f94e  POS0007:875032845          3.95   \n",
       "1  fcac1abc-6e0b-4649-9a50-35681a05fe30  POS0007:137504074          3.95   \n",
       "2  d308eae3-0999-43fd-b5ea-357c6a165877  POS0007:334978027          4.00   \n",
       "3  0a6c6337-2803-40cc-8810-356b19b6e4e0  POS0005:204907544          7.95   \n",
       "4  6a8c5ca1-35b9-411c-b18f-356adc33015e  POS0009:413400729          3.95   \n",
       "\n",
       "  Date_Occurred  \n",
       "0    2018-07-25  \n",
       "1    2018-07-27  \n",
       "2    2018-07-25  \n",
       "3    2018-07-23  \n",
       "4    2018-04-26  "
      ]
     },
     "execution_count": 5,
     "metadata": {},
     "output_type": "execute_result"
    }
   ],
   "source": [
    "tnx.head()"
   ]
  },
  {
   "cell_type": "code",
   "execution_count": 6,
   "metadata": {
    "scrolled": true
   },
   "outputs": [
    {
     "name": "stdout",
     "output_type": "stream",
     "text": [
      "Number of rows (not empty):  Customers         128825\n",
      "Transaction_Id    128825\n",
      "Sales_Amount      128825\n",
      "Date_Occurred     128825\n",
      "dtype: int64\n",
      "Number of transactions (Guest Count): 128813\n",
      "Number of customers: 28520\n"
     ]
    }
   ],
   "source": [
    "#exploring the unique values of each attribute\n",
    "print(\"Number of rows (not empty): \", tnx.count())\n",
    "print(\"Number of transactions (Guest Count):\", tnx['Transaction_Id'].nunique())\n",
    "print(\"Number of customers:\", tnx['Customers'].nunique())"
   ]
  },
  {
   "cell_type": "markdown",
   "metadata": {},
   "source": [
    "AGGREGATE DATA"
   ]
  },
  {
   "cell_type": "code",
   "execution_count": 70,
   "metadata": {},
   "outputs": [],
   "source": [
    "tnx['Lastpurchasedate']=tnx.Date_Occurred\n",
    "tnx['Transaction']=tnx.Transaction_Id"
   ]
  },
  {
   "cell_type": "code",
   "execution_count": 89,
   "metadata": {},
   "outputs": [],
   "source": [
    "Lastpurchasedate= tnx.groupby([\"Customers\"]).agg({'Date_Occurred': [np.max]})\n",
    "Lastpurchasedate['DaysSinceLastPurchase'] = pd.Timestamp.now() - pd.to_datetime(Lastpurchasedate['Date_Occurred']['amax'])\n",
    "Lastpurchasedate['DaysSinceLastPurchase'] = Lastpurchasedate.DaysSinceLastPurchase.dt.days\n",
    "Lastpurchasedate.columns = ['LastPurchaseDate','DaysSinceLastPurchase']\n",
    "Lastpurchasedate=Lastpurchasedate.reset_index()"
   ]
  },
  {
   "cell_type": "code",
   "execution_count": 72,
   "metadata": {
    "scrolled": false
   },
   "outputs": [],
   "source": [
    "Transaction_count= tnx.groupby([\"Customers\"]).agg({'Transaction':'nunique'})"
   ]
  },
  {
   "cell_type": "code",
   "execution_count": 77,
   "metadata": {},
   "outputs": [],
   "source": [
    "TransactionAmount = tnx.groupby([\"Customers\"]).agg({'Sales_Amount':'sum'})\n",
    "Avg_Transaction = pd.merge(TransactionAmount, Transaction_count,\n",
    "                     how='left', on=['Customers'])\n",
    "Avg_Transaction['Avg_Transaction_Value'] = Avg_Transaction.Sales_Amount/Avg_Transaction.Transaction"
   ]
  },
  {
   "cell_type": "code",
   "execution_count": 91,
   "metadata": {
    "scrolled": false
   },
   "outputs": [],
   "source": [
    "all_tranz = pd.merge(Avg_Transaction,Lastpurchasedate.loc[:, ['Customers', 'DaysSinceLastPurchase']],\n",
    "                     how='left', on=['Customers'])"
   ]
  },
  {
   "cell_type": "code",
   "execution_count": 92,
   "metadata": {},
   "outputs": [
    {
     "data": {
      "text/html": [
       "<div>\n",
       "<style scoped>\n",
       "    .dataframe tbody tr th:only-of-type {\n",
       "        vertical-align: middle;\n",
       "    }\n",
       "\n",
       "    .dataframe tbody tr th {\n",
       "        vertical-align: top;\n",
       "    }\n",
       "\n",
       "    .dataframe thead th {\n",
       "        text-align: right;\n",
       "    }\n",
       "</style>\n",
       "<table border=\"1\" class=\"dataframe\">\n",
       "  <thead>\n",
       "    <tr style=\"text-align: right;\">\n",
       "      <th></th>\n",
       "      <th>Customers</th>\n",
       "      <th>Sales_Amount</th>\n",
       "      <th>Transaction</th>\n",
       "      <th>Avg_Transaction_Value</th>\n",
       "      <th>DaysSinceLastPurchase</th>\n",
       "    </tr>\n",
       "  </thead>\n",
       "  <tbody>\n",
       "    <tr>\n",
       "      <th>0</th>\n",
       "      <td>000644df-aa9b-4880-b551-357288f59223</td>\n",
       "      <td>17.7</td>\n",
       "      <td>2</td>\n",
       "      <td>8.85</td>\n",
       "      <td>50</td>\n",
       "    </tr>\n",
       "    <tr>\n",
       "      <th>1</th>\n",
       "      <td>000668dc-83c7-4a1f-92bb-352709cb8294</td>\n",
       "      <td>1389.0</td>\n",
       "      <td>20</td>\n",
       "      <td>69.45</td>\n",
       "      <td>7</td>\n",
       "    </tr>\n",
       "    <tr>\n",
       "      <th>2</th>\n",
       "      <td>0006a7d2-246c-4533-97b0-356539d30012</td>\n",
       "      <td>415.2</td>\n",
       "      <td>8</td>\n",
       "      <td>51.90</td>\n",
       "      <td>17</td>\n",
       "    </tr>\n",
       "    <tr>\n",
       "      <th>3</th>\n",
       "      <td>000ab955-f4b1-4c74-89bc-3569ecd81562</td>\n",
       "      <td>23.4</td>\n",
       "      <td>3</td>\n",
       "      <td>7.80</td>\n",
       "      <td>4</td>\n",
       "    </tr>\n",
       "    <tr>\n",
       "      <th>4</th>\n",
       "      <td>000fe1a3-a44c-4e39-8a70-352b9779839c</td>\n",
       "      <td>87.4</td>\n",
       "      <td>4</td>\n",
       "      <td>21.85</td>\n",
       "      <td>60</td>\n",
       "    </tr>\n",
       "  </tbody>\n",
       "</table>\n",
       "</div>"
      ],
      "text/plain": [
       "                              Customers  Sales_Amount  Transaction  \\\n",
       "0  000644df-aa9b-4880-b551-357288f59223          17.7            2   \n",
       "1  000668dc-83c7-4a1f-92bb-352709cb8294        1389.0           20   \n",
       "2  0006a7d2-246c-4533-97b0-356539d30012         415.2            8   \n",
       "3  000ab955-f4b1-4c74-89bc-3569ecd81562          23.4            3   \n",
       "4  000fe1a3-a44c-4e39-8a70-352b9779839c          87.4            4   \n",
       "\n",
       "   Avg_Transaction_Value  DaysSinceLastPurchase  \n",
       "0                   8.85                     50  \n",
       "1                  69.45                      7  \n",
       "2                  51.90                     17  \n",
       "3                   7.80                      4  \n",
       "4                  21.85                     60  "
      ]
     },
     "execution_count": 92,
     "metadata": {},
     "output_type": "execute_result"
    }
   ],
   "source": [
    "all_tranz.head()"
   ]
  },
  {
   "cell_type": "code",
   "execution_count": 93,
   "metadata": {},
   "outputs": [],
   "source": [
    "def RFMscore(x):\n",
    "    # recency\n",
    "    recencyCutoffs = x.DaysSinceLastPurchase.quantile([0.3333, 0.6666])\n",
    "    x['Recency'] = 2\n",
    "    x.loc[x['DaysSinceLastPurchase'] < recencyCutoffs.values[0], 'Recency'] = 1\n",
    "    x.loc[x['DaysSinceLastPurchase'] > recencyCutoffs.values[1], 'Recency'] = 3\n",
    "    # frequency\n",
    "    frequencyCutoffs = x.Transaction.quantile([0.3333, 0.6666])\n",
    "    x['Frequency'] = 2\n",
    "    x.loc[x['Transaction'] < frequencyCutoffs.values[0], 'Frequency'] = 3\n",
    "    x.loc[x['Transaction'] > frequencyCutoffs.values[1], 'Frequency'] = 1\n",
    "    # monetary\n",
    "    monetaryCutoffs = x.Avg_Transaction_Value.quantile([0.3333, 0.6666])\n",
    "    x['Monetary'] = 2\n",
    "    x.loc[x['Avg_Transaction_Value'] < monetaryCutoffs.values[0], 'Monetary'] = 3\n",
    "    x.loc[x['Avg_Transaction_Value'] > monetaryCutoffs.values[1], 'Monetary'] = 1\n",
    "    return x"
   ]
  },
  {
   "cell_type": "code",
   "execution_count": 94,
   "metadata": {},
   "outputs": [],
   "source": [
    "df = RFMscore(all_tranz)"
   ]
  },
  {
   "cell_type": "code",
   "execution_count": 96,
   "metadata": {},
   "outputs": [
    {
     "data": {
      "text/html": [
       "<div>\n",
       "<style scoped>\n",
       "    .dataframe tbody tr th:only-of-type {\n",
       "        vertical-align: middle;\n",
       "    }\n",
       "\n",
       "    .dataframe tbody tr th {\n",
       "        vertical-align: top;\n",
       "    }\n",
       "\n",
       "    .dataframe thead th {\n",
       "        text-align: right;\n",
       "    }\n",
       "</style>\n",
       "<table border=\"1\" class=\"dataframe\">\n",
       "  <thead>\n",
       "    <tr style=\"text-align: right;\">\n",
       "      <th></th>\n",
       "      <th>Customers</th>\n",
       "      <th>Sales_Amount</th>\n",
       "      <th>Transaction</th>\n",
       "      <th>Avg_Transaction_Value</th>\n",
       "      <th>DaysSinceLastPurchase</th>\n",
       "      <th>Recency</th>\n",
       "      <th>Frequency</th>\n",
       "      <th>Monetary</th>\n",
       "    </tr>\n",
       "  </thead>\n",
       "  <tbody>\n",
       "    <tr>\n",
       "      <th>0</th>\n",
       "      <td>000644df-aa9b-4880-b551-357288f59223</td>\n",
       "      <td>17.7</td>\n",
       "      <td>2</td>\n",
       "      <td>8.85</td>\n",
       "      <td>50</td>\n",
       "      <td>2</td>\n",
       "      <td>2</td>\n",
       "      <td>2</td>\n",
       "    </tr>\n",
       "    <tr>\n",
       "      <th>1</th>\n",
       "      <td>000668dc-83c7-4a1f-92bb-352709cb8294</td>\n",
       "      <td>1389.0</td>\n",
       "      <td>20</td>\n",
       "      <td>69.45</td>\n",
       "      <td>7</td>\n",
       "      <td>1</td>\n",
       "      <td>1</td>\n",
       "      <td>1</td>\n",
       "    </tr>\n",
       "    <tr>\n",
       "      <th>2</th>\n",
       "      <td>0006a7d2-246c-4533-97b0-356539d30012</td>\n",
       "      <td>415.2</td>\n",
       "      <td>8</td>\n",
       "      <td>51.90</td>\n",
       "      <td>17</td>\n",
       "      <td>1</td>\n",
       "      <td>1</td>\n",
       "      <td>1</td>\n",
       "    </tr>\n",
       "    <tr>\n",
       "      <th>3</th>\n",
       "      <td>000ab955-f4b1-4c74-89bc-3569ecd81562</td>\n",
       "      <td>23.4</td>\n",
       "      <td>3</td>\n",
       "      <td>7.80</td>\n",
       "      <td>4</td>\n",
       "      <td>1</td>\n",
       "      <td>2</td>\n",
       "      <td>3</td>\n",
       "    </tr>\n",
       "    <tr>\n",
       "      <th>4</th>\n",
       "      <td>000fe1a3-a44c-4e39-8a70-352b9779839c</td>\n",
       "      <td>87.4</td>\n",
       "      <td>4</td>\n",
       "      <td>21.85</td>\n",
       "      <td>60</td>\n",
       "      <td>2</td>\n",
       "      <td>2</td>\n",
       "      <td>1</td>\n",
       "    </tr>\n",
       "  </tbody>\n",
       "</table>\n",
       "</div>"
      ],
      "text/plain": [
       "                              Customers  Sales_Amount  Transaction  \\\n",
       "0  000644df-aa9b-4880-b551-357288f59223          17.7            2   \n",
       "1  000668dc-83c7-4a1f-92bb-352709cb8294        1389.0           20   \n",
       "2  0006a7d2-246c-4533-97b0-356539d30012         415.2            8   \n",
       "3  000ab955-f4b1-4c74-89bc-3569ecd81562          23.4            3   \n",
       "4  000fe1a3-a44c-4e39-8a70-352b9779839c          87.4            4   \n",
       "\n",
       "   Avg_Transaction_Value  DaysSinceLastPurchase  Recency  Frequency  Monetary  \n",
       "0                   8.85                     50        2          2         2  \n",
       "1                  69.45                      7        1          1         1  \n",
       "2                  51.90                     17        1          1         1  \n",
       "3                   7.80                      4        1          2         3  \n",
       "4                  21.85                     60        2          2         1  "
      ]
     },
     "execution_count": 96,
     "metadata": {},
     "output_type": "execute_result"
    }
   ],
   "source": [
    "df.head()"
   ]
  },
  {
   "cell_type": "code",
   "execution_count": 98,
   "metadata": {},
   "outputs": [],
   "source": [
    "df.loc[(df.Recency == 1) & (df.Frequency == 1) & (df.Monetary == 1),'Segment']= 'Best Customers'\n",
    "df.loc[(df.Recency == 1) & (df.Frequency == 1) & (df.Monetary == 2),'Segment']= 'Loyal Customers'\n",
    "df.loc[(df.Recency == 1) & (df.Frequency == 1) & (df.Monetary == 3),'Segment']= 'Loyal Customers'\n",
    "df.loc[(df.Recency == 1) & (df.Frequency == 2) & (df.Monetary == 1),'Segment']= 'Big spenders'\n",
    "df.loc[(df.Recency == 1) & (df.Frequency == 2) & (df.Monetary == 2),'Segment']= 'Recent low value'\n",
    "df.loc[(df.Recency == 1) & (df.Frequency == 2) & (df.Monetary == 3),'Segment']= 'Recent low value'\n",
    "df.loc[(df.Recency == 1) & (df.Frequency == 3) & (df.Monetary == 1),'Segment']= 'Big spenders'\n",
    "df.loc[(df.Recency == 1) & (df.Frequency == 3) & (df.Monetary == 2),'Segment']= 'Recent low value'\n",
    "df.loc[(df.Recency == 1) & (df.Frequency == 3) & (df.Monetary == 3),'Segment']= 'Recent low value'\n",
    "df.loc[(df.Recency == 2) & (df.Frequency == 1) & (df.Monetary == 1),'Segment']= 'Big spenders'\n",
    "df.loc[(df.Recency == 2) & (df.Frequency == 1) & (df.Monetary == 2),'Segment']= 'Loyal Customers'\n",
    "df.loc[(df.Recency == 2) & (df.Frequency == 1) & (df.Monetary == 3),'Segment']= 'Loyal Customers'\n",
    "df.loc[(df.Recency == 2) & (df.Frequency == 2) & (df.Monetary == 1),'Segment']= 'Big spenders'\n",
    "df.loc[(df.Recency == 2) & (df.Frequency == 2) & (df.Monetary == 2),'Segment']= 'Lappsed'\n",
    "df.loc[(df.Recency == 2) & (df.Frequency == 2) & (df.Monetary == 3),'Segment']= 'Lappsed'\n",
    "df.loc[(df.Recency == 2) & (df.Frequency == 3) & (df.Monetary == 1),'Segment']= 'Big spenders'\n",
    "df.loc[(df.Recency == 2) & (df.Frequency == 3) & (df.Monetary == 2),'Segment']= 'Lappsed'\n",
    "df.loc[(df.Recency == 2) & (df.Frequency == 3) & (df.Monetary == 3),'Segment']= 'Lappsed'\n",
    "df.loc[(df.Recency == 3) & (df.Frequency == 1) & (df.Monetary == 1),'Segment']= 'Loyal Lapsed'\n",
    "df.loc[(df.Recency == 3) & (df.Frequency == 1) & (df.Monetary == 2),'Segment']= 'Loyal Lapsed'\n",
    "df.loc[(df.Recency == 3) & (df.Frequency == 1) & (df.Monetary == 3),'Segment']= 'Loyal Lapsed'\n",
    "df.loc[(df.Recency == 3) & (df.Frequency == 2) & (df.Monetary == 1),'Segment']= 'Inactive Accounts'\n",
    "df.loc[(df.Recency == 3) & (df.Frequency == 2) & (df.Monetary == 2),'Segment']= 'Inactive Accounts'\n",
    "df.loc[(df.Recency == 3) & (df.Frequency == 2) & (df.Monetary == 3),'Segment']= 'Inactive Accounts'\n",
    "df.loc[(df.Recency == 3) & (df.Frequency == 3) & (df.Monetary == 1),'Segment']= 'Inactive Accounts'\n",
    "df.loc[(df.Recency == 3) & (df.Frequency == 3) & (df.Monetary == 2),'Segment']= 'Inactive Accounts'\n",
    "df.loc[(df.Recency == 3) & (df.Frequency == 3) & (df.Monetary == 3),'Segment']= 'Inactive Accounts'"
   ]
  },
  {
   "cell_type": "code",
   "execution_count": 99,
   "metadata": {},
   "outputs": [
    {
     "data": {
      "text/html": [
       "<div>\n",
       "<style scoped>\n",
       "    .dataframe tbody tr th:only-of-type {\n",
       "        vertical-align: middle;\n",
       "    }\n",
       "\n",
       "    .dataframe tbody tr th {\n",
       "        vertical-align: top;\n",
       "    }\n",
       "\n",
       "    .dataframe thead th {\n",
       "        text-align: right;\n",
       "    }\n",
       "</style>\n",
       "<table border=\"1\" class=\"dataframe\">\n",
       "  <thead>\n",
       "    <tr style=\"text-align: right;\">\n",
       "      <th></th>\n",
       "      <th>Customers</th>\n",
       "      <th>Sales_Amount</th>\n",
       "      <th>Transaction</th>\n",
       "      <th>Avg_Transaction_Value</th>\n",
       "      <th>DaysSinceLastPurchase</th>\n",
       "      <th>Recency</th>\n",
       "      <th>Frequency</th>\n",
       "      <th>Monetary</th>\n",
       "      <th>Segment</th>\n",
       "    </tr>\n",
       "  </thead>\n",
       "  <tbody>\n",
       "    <tr>\n",
       "      <th>0</th>\n",
       "      <td>000644df-aa9b-4880-b551-357288f59223</td>\n",
       "      <td>17.7</td>\n",
       "      <td>2</td>\n",
       "      <td>8.85</td>\n",
       "      <td>50</td>\n",
       "      <td>2</td>\n",
       "      <td>2</td>\n",
       "      <td>2</td>\n",
       "      <td>Lappsed</td>\n",
       "    </tr>\n",
       "    <tr>\n",
       "      <th>1</th>\n",
       "      <td>000668dc-83c7-4a1f-92bb-352709cb8294</td>\n",
       "      <td>1389.0</td>\n",
       "      <td>20</td>\n",
       "      <td>69.45</td>\n",
       "      <td>7</td>\n",
       "      <td>1</td>\n",
       "      <td>1</td>\n",
       "      <td>1</td>\n",
       "      <td>Best Customers</td>\n",
       "    </tr>\n",
       "    <tr>\n",
       "      <th>2</th>\n",
       "      <td>0006a7d2-246c-4533-97b0-356539d30012</td>\n",
       "      <td>415.2</td>\n",
       "      <td>8</td>\n",
       "      <td>51.90</td>\n",
       "      <td>17</td>\n",
       "      <td>1</td>\n",
       "      <td>1</td>\n",
       "      <td>1</td>\n",
       "      <td>Best Customers</td>\n",
       "    </tr>\n",
       "    <tr>\n",
       "      <th>3</th>\n",
       "      <td>000ab955-f4b1-4c74-89bc-3569ecd81562</td>\n",
       "      <td>23.4</td>\n",
       "      <td>3</td>\n",
       "      <td>7.80</td>\n",
       "      <td>4</td>\n",
       "      <td>1</td>\n",
       "      <td>2</td>\n",
       "      <td>3</td>\n",
       "      <td>Recent low value</td>\n",
       "    </tr>\n",
       "    <tr>\n",
       "      <th>4</th>\n",
       "      <td>000fe1a3-a44c-4e39-8a70-352b9779839c</td>\n",
       "      <td>87.4</td>\n",
       "      <td>4</td>\n",
       "      <td>21.85</td>\n",
       "      <td>60</td>\n",
       "      <td>2</td>\n",
       "      <td>2</td>\n",
       "      <td>1</td>\n",
       "      <td>Big spenders</td>\n",
       "    </tr>\n",
       "  </tbody>\n",
       "</table>\n",
       "</div>"
      ],
      "text/plain": [
       "                              Customers  Sales_Amount  Transaction  \\\n",
       "0  000644df-aa9b-4880-b551-357288f59223          17.7            2   \n",
       "1  000668dc-83c7-4a1f-92bb-352709cb8294        1389.0           20   \n",
       "2  0006a7d2-246c-4533-97b0-356539d30012         415.2            8   \n",
       "3  000ab955-f4b1-4c74-89bc-3569ecd81562          23.4            3   \n",
       "4  000fe1a3-a44c-4e39-8a70-352b9779839c          87.4            4   \n",
       "\n",
       "   Avg_Transaction_Value  DaysSinceLastPurchase  Recency  Frequency  Monetary  \\\n",
       "0                   8.85                     50        2          2         2   \n",
       "1                  69.45                      7        1          1         1   \n",
       "2                  51.90                     17        1          1         1   \n",
       "3                   7.80                      4        1          2         3   \n",
       "4                  21.85                     60        2          2         1   \n",
       "\n",
       "            Segment  \n",
       "0           Lappsed  \n",
       "1    Best Customers  \n",
       "2    Best Customers  \n",
       "3  Recent low value  \n",
       "4      Big spenders  "
      ]
     },
     "execution_count": 99,
     "metadata": {},
     "output_type": "execute_result"
    }
   ],
   "source": [
    "df.head()"
   ]
  },
  {
   "cell_type": "code",
   "execution_count": 100,
   "metadata": {},
   "outputs": [],
   "source": [
    "df.to_csv(os.path.join(\"..\",\"Data\",\"rfmgreece_output.csv\"))"
   ]
  },
  {
   "cell_type": "code",
   "execution_count": null,
   "metadata": {},
   "outputs": [],
   "source": []
  }
 ],
 "metadata": {
  "kernelspec": {
   "display_name": "Python 3",
   "language": "python",
   "name": "python3"
  },
  "language_info": {
   "codemirror_mode": {
    "name": "ipython",
    "version": 3
   },
   "file_extension": ".py",
   "mimetype": "text/x-python",
   "name": "python",
   "nbconvert_exporter": "python",
   "pygments_lexer": "ipython3",
   "version": "3.6.5"
  }
 },
 "nbformat": 4,
 "nbformat_minor": 2
}
